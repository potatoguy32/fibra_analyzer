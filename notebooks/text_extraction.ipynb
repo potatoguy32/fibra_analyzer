{
 "cells": [
  {
   "cell_type": "code",
   "execution_count": 1,
   "metadata": {},
   "outputs": [
    {
     "name": "stderr",
     "output_type": "stream",
     "text": [
      "Python-dotenv could not parse statement starting at line 14\n",
      "Python-dotenv could not parse statement starting at line 14\n"
     ]
    }
   ],
   "source": [
    "import os\n",
    "import pathlib\n",
    "import re\n",
    "import datetime\n",
    "\n",
    "from src.data.text_handlers import TextHandlerFMTY14, TextHandlerFIBRAPL14, TextHandlerFNOVA17, TextHandlerFIBRAMQ12, TextHandlerFSHOP13, TextHandler\n",
    "\n",
    "from pypdf import PdfReader\n",
    "from tabula import read_pdf\n",
    "import dateparser\n",
    "\n",
    "import pandas as pd\n",
    "\n",
    "\n",
    "%load_ext dotenv\n",
    "%dotenv\n",
    "\n",
    "REPORTS_STORE_PATH = os.environ['REPORTS_STORE_PATH']"
   ]
  },
  {
   "cell_type": "code",
   "execution_count": 2,
   "metadata": {},
   "outputs": [
    {
     "name": "stdout",
     "output_type": "stream",
     "text": [
      "========= TextHandlerFMTY14 ========\n",
      "{'ticker': 'FMTY14.MX', 'announcement_date': '2024-01-23', 'dividend_date': '2024-01-31', 'dividend_amount': '0.0751336386897991', 'dividend_type': 'fiscal'}\n",
      "{'ticker': 'FMTY14.MX', 'announcement_date': '2024-02-21', 'dividend_date': '2024-02-29', 'dividend_amount': '0.0750133309617115', 'dividend_type': 'fiscal'}\n",
      "{'ticker': 'FMTY14.MX', 'announcement_date': '2024-02-23', 'dividend_date': '2024-03-04', 'dividend_amount': None, 'dividend_type': None}\n",
      "{'ticker': 'FMTY14.MX', 'announcement_date': '2024-02-23', 'dividend_date': '2024-03-04', 'dividend_amount': 'DISTRIBUCIÓN DE EFECTIVO POR CBFI A LA FECHA DE REGISTRO: MXN $0.1546730030428080', 'dividend_type': 'capital'}\n",
      "{'ticker': 'FMTY14.MX', 'announcement_date': '2024-06-20', 'dividend_date': '2024-06-28', 'dividend_amount': '0.0729148160167858', 'dividend_type': 'capital'}\n",
      "\n",
      "========= TextHandlerFIBRAPL14 ========\n",
      "{'ticker': 'FIBRAPL14.MX', 'announcement_date': '2024-04-17', 'dividend_date': '2024-05-02', 'dividend_amount': '0.598', 'dividend_type': None}\n",
      "{'ticker': 'FIBRAPL14.MX', 'announcement_date': '2024-02-22', 'dividend_date': '2024-03-06', 'dividend_amount': '0.3645', 'dividend_type': None}\n",
      "{'ticker': 'FIBRAPL14.MX', 'announcement_date': '2024-01-17', 'dividend_date': '2024-02-01', 'dividend_amount': '2.0269', 'dividend_type': None}\n",
      "{'ticker': 'FIBRAPL14.MX', 'announcement_date': '2023-02-27', 'dividend_date': '2023-03-10', 'dividend_amount': '0.8505', 'dividend_type': None}\n",
      "{'ticker': 'FIBRAPL14.MX', 'announcement_date': '2023-01-18', 'dividend_date': '2023-01-27', 'dividend_amount': '0.5636', 'dividend_type': None}\n",
      "{'ticker': 'FIBRAPL14.MX', 'announcement_date': '2023-07-19', 'dividend_date': '2023-07-28', 'dividend_amount': '0.474', 'dividend_type': None}\n"
     ]
    },
    {
     "name": "stderr",
     "output_type": "stream",
     "text": [
      "'pages' argument isn't specified.Will extract only from page 1 by default.\n"
     ]
    },
    {
     "name": "stdout",
     "output_type": "stream",
     "text": [
      "{'ticker': 'FIBRAPL14.MX', 'announcement_date': '2023-10-17', 'dividend_date': '2023-11-01', 'dividend_amount': '0.511', 'dividend_type': None}\n",
      "\n",
      "========= TextHandlerFNOVA17 ========\n",
      "{'ticker': 'FNOVA17.MX', 'announcement_date': '2024-04-15', 'dividend_date': '2024-04-23', 'dividend_amount': 0.575027304, 'dividend_type': 'capital'}\n",
      "\n",
      "========= TextHandlerFIBRAMQ12 ========\n",
      "{'ticker': 'FIBRAMQ12.MX', 'announcement_date': '2024-04-25', 'dividend_date': '2024-06-17', 'dividend_amount': '0.5250', 'dividend_type': None}\n",
      "\n",
      "========= TextHandlerFSHOP13 ========\n",
      "{'ticker': 'FSHOP13.MX', 'announcement_date': '2024-04-18', 'dividend_date': '2024-05-08', 'dividend_amount': '0.1371', 'dividend_type': None}\n",
      "\n"
     ]
    }
   ],
   "source": [
    "asset_map ={\n",
    "    'FMTY14': TextHandlerFMTY14,\n",
    "    'FIBRAPL14': TextHandlerFIBRAPL14,\n",
    "    'FNOVA17': TextHandlerFNOVA17,\n",
    "    'FIBRAMQ12': TextHandlerFIBRAMQ12,\n",
    "    'FSHOP13': TextHandlerFSHOP13,\n",
    "    }\n",
    "\n",
    "for folder, handler in asset_map.items():\n",
    "    print(f\"========= {handler.__name__} ========\")\n",
    "    for file in os.listdir(pathlib.Path(REPORTS_STORE_PATH).joinpath(folder + '/')):\n",
    "        curr_file_path = pathlib.Path(REPORTS_STORE_PATH).joinpath(folder).joinpath(file)\n",
    "        current_data = handler(curr_file_path).get_dividend_data()\n",
    "        print(current_data)\n",
    "    print()"
   ]
  },
  {
   "cell_type": "code",
   "execution_count": null,
   "metadata": {},
   "outputs": [],
   "source": []
  },
  {
   "cell_type": "code",
   "execution_count": null,
   "metadata": {},
   "outputs": [],
   "source": []
  },
  {
   "cell_type": "code",
   "execution_count": null,
   "metadata": {},
   "outputs": [],
   "source": []
  }
 ],
 "metadata": {
  "kernelspec": {
   "display_name": "fibra_analyzer_env",
   "language": "python",
   "name": "python3"
  },
  "language_info": {
   "codemirror_mode": {
    "name": "ipython",
    "version": 3
   },
   "file_extension": ".py",
   "mimetype": "text/x-python",
   "name": "python",
   "nbconvert_exporter": "python",
   "pygments_lexer": "ipython3",
   "version": "3.10.14"
  }
 },
 "nbformat": 4,
 "nbformat_minor": 2
}
