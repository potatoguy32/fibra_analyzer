{
 "cells": [
  {
   "cell_type": "code",
   "execution_count": 1,
   "metadata": {},
   "outputs": [
    {
     "name": "stderr",
     "output_type": "stream",
     "text": [
      "Python-dotenv could not parse statement starting at line 14\n",
      "Python-dotenv could not parse statement starting at line 14\n",
      "Python-dotenv could not parse statement starting at line 14\n",
      "Python-dotenv could not parse statement starting at line 14\n",
      "Python-dotenv could not parse statement starting at line 14\n"
     ]
    }
   ],
   "source": [
    "import sqlite3\n",
    "import os\n",
    "\n",
    "from src.data.make_dataset import update_market_data, add_new_tickers\n",
    "from src.data.CRUD import delete_tickers\n",
    "\n",
    "import numpy as np\n",
    "import pandas as pd\n",
    "\n",
    "%load_ext dotenv\n",
    "%dotenv\n",
    "\n",
    "DATABASE_PATH = os.environ['DATABASE_PATH']"
   ]
  },
  {
   "cell_type": "markdown",
   "metadata": {},
   "source": [
    "# Update tickers"
   ]
  },
  {
   "cell_type": "code",
   "execution_count": 2,
   "metadata": {},
   "outputs": [
    {
     "name": "stderr",
     "output_type": "stream",
     "text": [
      "[*********************100%%**********************]  15 of 15 completed\n"
     ]
    },
    {
     "name": "stdout",
     "output_type": "stream",
     "text": [
      "Loading 90 entries into database...\n",
      "Succesfully loaded new data in database, returning dataset for validations...\n"
     ]
    }
   ],
   "source": [
    "updated_data = update_market_data()"
   ]
  },
  {
   "cell_type": "code",
   "execution_count": 3,
   "metadata": {},
   "outputs": [
    {
     "data": {
      "text/plain": [
       "array(['FIBRAPL14.MX', 'FIBRAMQ12.MX', 'FIHO12.MX', 'FNOVA17.MX',\n",
       "       'FUNO11.MX', 'FPLUS16.MX', 'FSHOP13.MX', 'FINN13.MX', 'TERRA13.MX',\n",
       "       'FMTY14.MX', 'EDUCA18.MX', 'FIBRAUP18.MX', 'FCFE18.MX',\n",
       "       'DANHOS13.MX', 'FIBRAHD15.MX'], dtype=object)"
      ]
     },
     "execution_count": 3,
     "metadata": {},
     "output_type": "execute_result"
    }
   ],
   "source": [
    "updated_data.ticker.unique()"
   ]
  },
  {
   "cell_type": "markdown",
   "metadata": {},
   "source": [
    "# Delete tickers"
   ]
  },
  {
   "cell_type": "code",
   "execution_count": null,
   "metadata": {},
   "outputs": [],
   "source": [
    "with sqlite3.connect(DATABASE_PATH) as conn:\n",
    "    delete_tickers(connection=conn, tickers=['FIBRAMQ12.MX', 'TERRA13.MX'])"
   ]
  },
  {
   "cell_type": "markdown",
   "metadata": {},
   "source": [
    "# Add new tickers"
   ]
  },
  {
   "cell_type": "code",
   "execution_count": null,
   "metadata": {},
   "outputs": [],
   "source": [
    "new_data = add_new_tickers(tickers='FMTY14.MX', start_date='2012-12-01', end_date = '2024-01-01')\n",
    "new_data\n",
    "\n",
    "# new_updated_data = update_market_data()\n",
    "# new_updated_data"
   ]
  },
  {
   "cell_type": "code",
   "execution_count": null,
   "metadata": {},
   "outputs": [],
   "source": [
    "with sqlite3.connect(DATABASE_PATH) as conn:\n",
    "    cur = conn.cursor()\n",
    "    res = cur.execute(\"SELECT * FROM market_data where ticker = 'FMTY14.MX'\")\n",
    "    entries = res.fetchall()\n",
    "\n",
    "full_dataset = pd.DataFrame(entries, columns=['ticker', 'date', 'open', 'high', 'low', 'close', 'volume', 'dividends', 'stock_splits'])\n",
    "full_dataset['date'] = pd.to_datetime(full_dataset['date'])\n",
    "full_dataset['avg_price'] = full_dataset[['open', 'high', 'low', 'close']].mean(axis=1)\n",
    "full_dataset['paid_dividends'] = full_dataset['dividends'].replace(0, np.nan)\n",
    "full_dataset['period'] = full_dataset.date.dt.to_period('Q')\n",
    "full_dataset.set_index('date', inplace=True)"
   ]
  },
  {
   "cell_type": "code",
   "execution_count": null,
   "metadata": {},
   "outputs": [],
   "source": [
    "full_dataset"
   ]
  },
  {
   "cell_type": "code",
   "execution_count": null,
   "metadata": {},
   "outputs": [],
   "source": []
  },
  {
   "cell_type": "code",
   "execution_count": null,
   "metadata": {},
   "outputs": [],
   "source": []
  }
 ],
 "metadata": {
  "kernelspec": {
   "display_name": "fibra_analyzer_env",
   "language": "python",
   "name": "python3"
  },
  "language_info": {
   "codemirror_mode": {
    "name": "ipython",
    "version": 3
   },
   "file_extension": ".py",
   "mimetype": "text/x-python",
   "name": "python",
   "nbconvert_exporter": "python",
   "pygments_lexer": "ipython3",
   "version": "3.10.14"
  }
 },
 "nbformat": 4,
 "nbformat_minor": 2
}
