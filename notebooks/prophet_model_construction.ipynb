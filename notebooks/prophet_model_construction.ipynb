{
 "cells": [
  {
   "cell_type": "code",
   "execution_count": 1,
   "metadata": {},
   "outputs": [
    {
     "name": "stderr",
     "output_type": "stream",
     "text": [
      "Python-dotenv could not parse statement starting at line 14\n"
     ]
    }
   ],
   "source": [
    "import math\n",
    "import os\n",
    "import pathlib\n",
    "import pickle\n",
    "import sqlite3\n",
    "\n",
    "from dotenv import load_dotenv\n",
    "\n",
    "import numpy as np\n",
    "import pandas as pd\n",
    "\n",
    "# Neural network stuff\n",
    "from darts import TimeSeries\n",
    "from darts.utils.callbacks import TFMProgressBar\n",
    "from darts.models import TCNModel, Prophet\n",
    "from darts.dataprocessing.transformers import Scaler\n",
    "from darts.utils.timeseries_generation import datetime_attribute_timeseries\n",
    "from darts.metrics import mape, r2_score, rmse, smape\n",
    "from darts.utils.missing_values import fill_missing_values\n",
    "from torch.nn import MSELoss\n",
    "\n",
    "%load_ext dotenv\n",
    "%dotenv\n",
    "\n",
    "DATABASE_PATH = os.environ['DATABASE_PATH']\n",
    "MODEL_STORE_PATH = os.environ['MODEL_STORE']"
   ]
  },
  {
   "cell_type": "code",
   "execution_count": 2,
   "metadata": {},
   "outputs": [],
   "source": [
    "with sqlite3.connect(DATABASE_PATH) as conn:\n",
    "    cur = conn.cursor()\n",
    "    res = cur.execute(\"SELECT * FROM market_data where date >= '2022-09-01' order by ticker, date;\")\n",
    "    entries = res.fetchall()\n",
    "\n",
    "full_dataset = pd.DataFrame(entries, columns=['ticker', 'date', 'open', 'high', 'low', 'close', 'volume', 'dividends', 'stock_splits'])\n",
    "full_dataset['date'] = pd.to_datetime(full_dataset['date'])\n",
    "full_dataset['avg_price'] = full_dataset[['open', 'high', 'low', 'close']].mean(axis=1)\n",
    "full_dataset['paid_dividends'] = full_dataset['dividends'].replace(0, np.nan)\n",
    "full_dataset['period'] = full_dataset.date.dt.to_period('Q')\n",
    "sample = full_dataset.query(\"ticker == 'FIBRAPL14.MX'\").get(['date', 'avg_price'])"
   ]
  },
  {
   "cell_type": "code",
   "execution_count": 3,
   "metadata": {},
   "outputs": [],
   "source": [
    "ts = TimeSeries.from_dataframe(df=sample, time_col='date', value_cols='avg_price', freq='B')\n",
    "ts = fill_missing_values(ts, fill='auto')"
   ]
  },
  {
   "cell_type": "code",
   "execution_count": 4,
   "metadata": {},
   "outputs": [
    {
     "ename": "AttributeError",
     "evalue": "'Prophet' object has no attribute 'stan_backend'",
     "output_type": "error",
     "traceback": [
      "\u001b[1;31m---------------------------------------------------------------------------\u001b[0m",
      "\u001b[1;31mAttributeError\u001b[0m                            Traceback (most recent call last)",
      "Cell \u001b[1;32mIn[4], line 2\u001b[0m\n\u001b[0;32m      1\u001b[0m model \u001b[38;5;241m=\u001b[39m Prophet()\n\u001b[1;32m----> 2\u001b[0m \u001b[43mmodel\u001b[49m\u001b[38;5;241;43m.\u001b[39;49m\u001b[43mfit\u001b[49m\u001b[43m(\u001b[49m\u001b[43mts\u001b[49m\u001b[43m)\u001b[49m\n",
      "File \u001b[1;32mc:\\Users\\alanc\\miniconda3\\envs\\fibra_analyzer_env\\lib\\site-packages\\darts\\models\\forecasting\\forecasting_model.py:2788\u001b[0m, in \u001b[0;36mFutureCovariatesLocalForecastingModel.fit\u001b[1;34m(self, series, future_covariates)\u001b[0m\n\u001b[0;32m   2780\u001b[0m     _, future_covariates \u001b[38;5;241m=\u001b[39m \u001b[38;5;28mself\u001b[39m\u001b[38;5;241m.\u001b[39mgenerate_fit_encodings(\n\u001b[0;32m   2781\u001b[0m         series\u001b[38;5;241m=\u001b[39mseries,\n\u001b[0;32m   2782\u001b[0m         past_covariates\u001b[38;5;241m=\u001b[39m\u001b[38;5;28;01mNone\u001b[39;00m,\n\u001b[0;32m   2783\u001b[0m         future_covariates\u001b[38;5;241m=\u001b[39mfuture_covariates,\n\u001b[0;32m   2784\u001b[0m     )\n\u001b[0;32m   2786\u001b[0m \u001b[38;5;28msuper\u001b[39m()\u001b[38;5;241m.\u001b[39mfit(series)\n\u001b[1;32m-> 2788\u001b[0m \u001b[38;5;28;01mreturn\u001b[39;00m \u001b[38;5;28;43mself\u001b[39;49m\u001b[38;5;241;43m.\u001b[39;49m\u001b[43m_fit\u001b[49m\u001b[43m(\u001b[49m\u001b[43mseries\u001b[49m\u001b[43m,\u001b[49m\u001b[43m \u001b[49m\u001b[43mfuture_covariates\u001b[49m\u001b[38;5;241;43m=\u001b[39;49m\u001b[43mfuture_covariates\u001b[49m\u001b[43m)\u001b[49m\n",
      "File \u001b[1;32mc:\\Users\\alanc\\miniconda3\\envs\\fibra_analyzer_env\\lib\\site-packages\\darts\\models\\forecasting\\prophet_model.py:218\u001b[0m, in \u001b[0;36mProphet._fit\u001b[1;34m(self, series, future_covariates)\u001b[0m\n\u001b[0;32m    215\u001b[0m \u001b[38;5;28;01mif\u001b[39;00m \u001b[38;5;28mself\u001b[39m\u001b[38;5;241m.\u001b[39mis_logistic:\n\u001b[0;32m    216\u001b[0m     fit_df \u001b[38;5;241m=\u001b[39m \u001b[38;5;28mself\u001b[39m\u001b[38;5;241m.\u001b[39m_add_capacities_to_df(fit_df)\n\u001b[1;32m--> 218\u001b[0m \u001b[38;5;28mself\u001b[39m\u001b[38;5;241m.\u001b[39mmodel \u001b[38;5;241m=\u001b[39m \u001b[38;5;28mself\u001b[39m\u001b[38;5;241m.\u001b[39m_model_builder(\u001b[38;5;241m*\u001b[39m\u001b[38;5;241m*\u001b[39m\u001b[38;5;28mself\u001b[39m\u001b[38;5;241m.\u001b[39mprophet_kwargs)\n\u001b[0;32m    220\u001b[0m \u001b[38;5;66;03m# add user defined seasonalities (from model creation and/or pre-fit self.add_seasonalities())\u001b[39;00m\n\u001b[0;32m    221\u001b[0m interval_length \u001b[38;5;241m=\u001b[39m \u001b[38;5;28mself\u001b[39m\u001b[38;5;241m.\u001b[39m_freq_to_days(series\u001b[38;5;241m.\u001b[39mfreq_str)\n",
      "File \u001b[1;32mc:\\Users\\alanc\\miniconda3\\envs\\fibra_analyzer_env\\lib\\site-packages\\prophet\\forecaster.py:155\u001b[0m, in \u001b[0;36mProphet.__init__\u001b[1;34m(self, growth, changepoints, n_changepoints, changepoint_range, yearly_seasonality, weekly_seasonality, daily_seasonality, holidays, seasonality_mode, seasonality_prior_scale, holidays_prior_scale, changepoint_prior_scale, mcmc_samples, interval_width, uncertainty_samples, stan_backend, scaling, holidays_mode)\u001b[0m\n\u001b[0;32m    153\u001b[0m \u001b[38;5;28mself\u001b[39m\u001b[38;5;241m.\u001b[39mfit_kwargs \u001b[38;5;241m=\u001b[39m {}\n\u001b[0;32m    154\u001b[0m \u001b[38;5;28mself\u001b[39m\u001b[38;5;241m.\u001b[39mvalidate_inputs()\n\u001b[1;32m--> 155\u001b[0m \u001b[38;5;28;43mself\u001b[39;49m\u001b[38;5;241;43m.\u001b[39;49m\u001b[43m_load_stan_backend\u001b[49m\u001b[43m(\u001b[49m\u001b[43mstan_backend\u001b[49m\u001b[43m)\u001b[49m\n",
      "File \u001b[1;32mc:\\Users\\alanc\\miniconda3\\envs\\fibra_analyzer_env\\lib\\site-packages\\prophet\\forecaster.py:168\u001b[0m, in \u001b[0;36mProphet._load_stan_backend\u001b[1;34m(self, stan_backend)\u001b[0m\n\u001b[0;32m    165\u001b[0m \u001b[38;5;28;01melse\u001b[39;00m:\n\u001b[0;32m    166\u001b[0m     \u001b[38;5;28mself\u001b[39m\u001b[38;5;241m.\u001b[39mstan_backend \u001b[38;5;241m=\u001b[39m StanBackendEnum\u001b[38;5;241m.\u001b[39mget_backend_class(stan_backend)()\n\u001b[1;32m--> 168\u001b[0m logger\u001b[38;5;241m.\u001b[39mdebug(\u001b[38;5;124m\"\u001b[39m\u001b[38;5;124mLoaded stan backend: \u001b[39m\u001b[38;5;132;01m%s\u001b[39;00m\u001b[38;5;124m\"\u001b[39m, \u001b[38;5;28;43mself\u001b[39;49m\u001b[38;5;241;43m.\u001b[39;49m\u001b[43mstan_backend\u001b[49m\u001b[38;5;241m.\u001b[39mget_type())\n",
      "\u001b[1;31mAttributeError\u001b[0m: 'Prophet' object has no attribute 'stan_backend'"
     ]
    }
   ],
   "source": [
    "model = Prophet()\n",
    "model.fit(ts)"
   ]
  },
  {
   "cell_type": "code",
   "execution_count": null,
   "metadata": {},
   "outputs": [],
   "source": []
  },
  {
   "cell_type": "code",
   "execution_count": null,
   "metadata": {},
   "outputs": [],
   "source": []
  }
 ],
 "metadata": {
  "kernelspec": {
   "display_name": "fibra_analyzer_env",
   "language": "python",
   "name": "python3"
  },
  "language_info": {
   "codemirror_mode": {
    "name": "ipython",
    "version": 3
   },
   "file_extension": ".py",
   "mimetype": "text/x-python",
   "name": "python",
   "nbconvert_exporter": "python",
   "pygments_lexer": "ipython3",
   "version": "3.10.14"
  }
 },
 "nbformat": 4,
 "nbformat_minor": 2
}
