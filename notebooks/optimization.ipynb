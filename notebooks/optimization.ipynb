{
 "cells": [
  {
   "cell_type": "code",
   "execution_count": null,
   "metadata": {},
   "outputs": [],
   "source": [
    "# out of the box python modules\n",
    "import os\n",
    "import sqlite3\n",
    "import datetime\n",
    "\n",
    "# some\n",
    "from src.data import make_dataset\n",
    "from src.models import make_prediction\n",
    "\n",
    "# Data wrangling stuff\n",
    "import pandas as pd\n",
    "import numpy as np\n",
    "from scipy.optimize import minimize\n",
    "from matplotlib import rc\n",
    "\n",
    "rc('mathtext', default='regular')\n",
    "\n",
    "%load_ext dotenv\n",
    "%dotenv\n",
    "\n",
    "DATABASE_PATH = os.environ['DATABASE_PATH']\n",
    "MODEL_STORE_PATH = os.environ['MODEL_STORE']\n",
    "REPORTS_STORE_PATH = os.environ['REPORTS_STORE_PATH']\n",
    "\n",
    "import warnings\n",
    "warnings.filterwarnings('ignore')"
   ]
  },
  {
   "cell_type": "code",
   "execution_count": null,
   "metadata": {},
   "outputs": [],
   "source": [
    "def sharpe_ratio(weights, returns, cov_matrix, risk_free_rate=0.0):\n",
    "    portfolio_return = np.sum(weights * returns)\n",
    "    portfolio_volatility = np.sqrt(np.dot(weights.T, np.dot(cov_matrix, weights)))\n",
    "    return (portfolio_return - risk_free_rate) / portfolio_volatility"
   ]
  },
  {
   "cell_type": "code",
   "execution_count": null,
   "metadata": {},
   "outputs": [],
   "source": [
    "class PriceHolder:\n",
    "    def __init__(self, tickers: list) -> None:\n",
    "        self.tickers = list(tickers)\n",
    "        self.weights = np.ones(len(tickers)) / len(tickers)\n",
    "        self.datasets = None\n",
    "        self.df_prices = None\n",
    "        pass\n",
    "\n",
    "    def make_tickers_dataset(self, start_date: str, end_date: str, prediction_window: int = 10):\n",
    "        df_prices_holder = []\n",
    "        self.datasets = []\n",
    "        for fibra in self.tickers:\n",
    "            current_df = make_dataset.get_ticker_dataset(fibra, start_date, end_date, prediction_window)\n",
    "            self.datasets.append(current_df)\n",
    "            df_prices_holder.append(current_df.query(\"source == 'actual'\").avg_price)\n",
    "\n",
    "        self.df_prices = pd.concat(df_prices_holder, axis=1, ignore_index=True)\n",
    "        return\n",
    "    \n",
    "    def set_evaluation_dates(self):\n",
    "        self.evaluation_dates = [df.date.max().date() for df in self.datasets]\n",
    "        return\n",
    "    \n",
    "    def get_evaluation_dates(self):\n",
    "        return list(self.evaluation_dates)\n",
    "\n",
    "    def get_df_prices(self):\n",
    "        return self.df_prices.copy()\n",
    "\n",
    "    def get_datasets_list(self):\n",
    "        return [df.copy() for df in self.datasets]\n",
    "\n",
    "    def compute_optimal_weights(self):\n",
    "        expected_returns = []\n",
    "        expected_risks = []\n",
    "        for df in self.datasets:\n",
    "            asseet_std = df.query(\"source == 'actual'\").avg_price.diff().std()\n",
    "            current_price = df.query(\"source == 'actual'\").iloc[-1].avg_price\n",
    "            predicted_price = df.query(\"source == 'prediction'\").iloc[-1].avg_price\n",
    "            period_dividends = df.query(\"source == 'prediction'\").dividends.sum()\n",
    "            future_price_diff = predicted_price - current_price\n",
    "            expected_pnl = future_price_diff + period_dividends\n",
    "\n",
    "            expected_returns.append(expected_pnl)\n",
    "            expected_risks.append(asseet_std)\n",
    "        \n",
    "        cov_matrix = self.df_prices.pct_change().cov()\n",
    "        constraints = ({'type': 'eq', 'fun': lambda x: np.sum(x) - 1})\n",
    "        bounds = tuple((0, 1) for _ in range(len(self.tickers)))\n",
    "\n",
    "        optimized = minimize(lambda x: -sharpe_ratio(x, expected_returns, cov_matrix), \n",
    "                            self.weights, method='SLSQP', bounds=bounds, constraints=constraints)\n",
    "\n",
    "        self.weights =  optimized.x\n",
    "        return\n",
    "    \n",
    "    def get_weights(self):\n",
    "        return [round(item, 4) for item in self.weights]"
   ]
  },
  {
   "cell_type": "code",
   "execution_count": null,
   "metadata": {},
   "outputs": [],
   "source": [
    "fibras = ['FIBRAMQ12.MX', 'FIBRAPL14.MX', 'FMTY14.MX', 'FNOVA17.MX', 'DANHOS13.MX'] # , 'DANHOS13.MX'\n",
    "# fibras = ['FIBRAMQ12.MX']"
   ]
  },
  {
   "cell_type": "code",
   "execution_count": null,
   "metadata": {},
   "outputs": [],
   "source": [
    "prediction_window = 20\n",
    "trailing_days = 450\n",
    "study_start_date = datetime.datetime.strptime('2023-01-01', '%Y-%m-%d')\n",
    "study_end_date = datetime.datetime.strptime('2024-01-01', '%Y-%m-%d')\n",
    "\n",
    "\n",
    "end_date = study_start_date.date()\n",
    "start_date = end_date - datetime.timedelta(days=trailing_days)\n",
    "\n",
    "\n",
    "price_holder = PriceHolder(fibras)\n",
    "price_holder.make_tickers_dataset(str(start_date), str(end_date), prediction_window=prediction_window)\n",
    "\n",
    "\n",
    "innitial_investment = 10_000\n",
    "accumulated_pnl = 0"
   ]
  },
  {
   "cell_type": "code",
   "execution_count": null,
   "metadata": {},
   "outputs": [],
   "source": [
    "# Get initial values and number of shares\n",
    "buy_date = study_start_date.date()\n",
    "evaluation_date = min([df.date.max().date() for df in price_holder.datasets])\n",
    "buy_prices = [df.get(df.date >= str(buy_date)).avg_price.values[0] for df in price_holder.datasets]\n",
    "sell_prices = [df.get(df.date == str(evaluation_date)).avg_price.values[-1] for df in price_holder.datasets]\n",
    "\n",
    "last_weights = price_holder.get_weights()\n",
    "share_number = [round(innitial_investment * weight / price) for weight, price in zip(last_weights, buy_prices)]\n",
    "reminder = sum([(innitial_investment * weight) - price * round(innitial_investment * weight / price)  for weight, price in zip(last_weights, buy_prices)])\n",
    "\n",
    "# Optmize weights with forecasted prices\n",
    "price_holder.compute_optimal_weights()\n",
    "\n",
    "# Rebalance portfolio and compute values\n",
    "sells = [min(shares * (new/last - 1), 0) for last, new, shares in zip(last_weights, price_holder.get_weights(), share_number)]\n",
    "new_balance = -sum([number * sell_price for number, sell_price in zip(sells, sell_prices)]) + reminder\n",
    "new_shares = [round(new_balance * weight / price) for weight, price in zip(price_holder.get_weights(), sell_prices)]\n",
    "new_share_number = [last_number + sell_number + new_number for new_number, last_number, sell_number in zip(new_shares, share_number, sells)]\n",
    "\n",
    "current_pnl = sum([share * price for share, price in zip(new_share_number, sell_prices)]) - innitial_investment"
   ]
  },
  {
   "cell_type": "code",
   "execution_count": null,
   "metadata": {},
   "outputs": [],
   "source": [
    "while end_date <= study_end_date.date():\n",
    "    end_date = evaluation_date\n",
    "    price_holder.make_tickers_dataset(str(start_date), str(end_date), prediction_window=prediction_window)\n",
    "\n",
    "    # Get initial values\n",
    "    sell_prices = [df.get(df.date == str(evaluation_date)).avg_price.values[-1] for df in price_holder.datasets]\n",
    "    evaluation_date = min([df.date.max().date() for df in price_holder.datasets])\n",
    "\n",
    "    # Get initial/current number of shares\n",
    "    last_weights = price_holder.get_weights()\n",
    "    share_number = list(new_share_number)\n",
    "\n",
    "    # Optmize weights with forecasted prices\n",
    "    price_holder.compute_optimal_weights()\n",
    "\n",
    "    # Rebalance portfolio and compute values\n",
    "    sells = [np.nan_to_num(min(shares * (new/last - 1), 0), nan=0) for last, new, shares in zip(last_weights, price_holder.get_weights(), share_number)]\n",
    "    new_balance = -sum([number * sell_price for number, sell_price in zip(sells, sell_prices)]) + reminder\n",
    "    new_shares = [round(new_balance * weight / price) for weight, price in zip(price_holder.get_weights(), sell_prices)]\n",
    "    new_share_number = [last_number + sell_number + new_number for new_number, last_number, sell_number in zip(new_shares, share_number, sells)]\n",
    "    reminder = sum([(new_balance * weight) - (price * round(new_balance * weight / price))  for weight, price in zip(price_holder.get_weights(), sell_prices)])\n",
    "\n",
    "    current_pnl = sum([share * price for share, price in zip(new_share_number, sell_prices)]) + reminder - innitial_investment\n",
    "    \n",
    "    print(str(evaluation_date), current_pnl)"
   ]
  },
  {
   "cell_type": "code",
   "execution_count": null,
   "metadata": {},
   "outputs": [],
   "source": [
    "end_date = evaluation_date\n",
    "price_holder.make_tickers_dataset(str(start_date), str(end_date), prediction_window=prediction_window)"
   ]
  },
  {
   "cell_type": "code",
   "execution_count": null,
   "metadata": {},
   "outputs": [],
   "source": [
    "# Get initial values\n",
    "sell_prices = [df.get(df.date == str(evaluation_date)).avg_price.values[-1] for df in price_holder.datasets]\n",
    "evaluation_date = min([df.date.max().date() for df in price_holder.datasets])\n",
    "\n",
    "# Get initial/current number of shares\n",
    "last_weights = price_holder.get_weights()\n",
    "share_number = list(new_share_number)\n",
    "\n",
    "# Optmize weights with forecasted prices\n",
    "price_holder.compute_optimal_weights()\n",
    "\n",
    "# Rebalance portfolio and compute values\n",
    "sells = [np.nan_to_num(min(shares * (new/last - 1), 0), nan=0) for last, new, shares in zip(last_weights, price_holder.get_weights(), share_number)]\n",
    "new_balance = -sum([number * sell_price for number, sell_price in zip(sells, sell_prices)]) + reminder\n",
    "new_shares = [round(new_balance * weight / price) for weight, price in zip(price_holder.get_weights(), sell_prices)]\n",
    "new_share_number = [last_number + sell_number + new_number for new_number, last_number, sell_number in zip(new_shares, share_number, sells)]\n",
    "reminder = sum([(new_balance * weight) - (price * round(new_balance * weight / price))  for weight, price in zip(price_holder.get_weights(), sell_prices)])\n",
    "\n",
    "current_pnl = sum([share * price for share, price in zip(new_share_number, sell_prices)]) + reminder - innitial_investment"
   ]
  },
  {
   "cell_type": "code",
   "execution_count": null,
   "metadata": {},
   "outputs": [],
   "source": [
    "end_date"
   ]
  },
  {
   "cell_type": "code",
   "execution_count": null,
   "metadata": {},
   "outputs": [],
   "source": [
    "evaluation_date"
   ]
  },
  {
   "cell_type": "code",
   "execution_count": null,
   "metadata": {},
   "outputs": [],
   "source": [
    "last_weights"
   ]
  },
  {
   "cell_type": "code",
   "execution_count": null,
   "metadata": {},
   "outputs": [],
   "source": [
    "price_holder.get_weights()"
   ]
  },
  {
   "cell_type": "code",
   "execution_count": null,
   "metadata": {},
   "outputs": [],
   "source": [
    "share_number"
   ]
  },
  {
   "cell_type": "code",
   "execution_count": null,
   "metadata": {},
   "outputs": [],
   "source": [
    "new_share_number"
   ]
  },
  {
   "cell_type": "code",
   "execution_count": null,
   "metadata": {},
   "outputs": [],
   "source": [
    "sell_prices"
   ]
  },
  {
   "cell_type": "code",
   "execution_count": null,
   "metadata": {},
   "outputs": [],
   "source": [
    "sells"
   ]
  },
  {
   "cell_type": "code",
   "execution_count": null,
   "metadata": {},
   "outputs": [],
   "source": [
    "new_balance"
   ]
  },
  {
   "cell_type": "code",
   "execution_count": null,
   "metadata": {},
   "outputs": [],
   "source": [
    "current_pnl"
   ]
  },
  {
   "cell_type": "code",
   "execution_count": null,
   "metadata": {},
   "outputs": [],
   "source": []
  }
 ],
 "metadata": {
  "kernelspec": {
   "display_name": "fibra_analyzer_env",
   "language": "python",
   "name": "python3"
  },
  "language_info": {
   "codemirror_mode": {
    "name": "ipython",
    "version": 3
   },
   "file_extension": ".py",
   "mimetype": "text/x-python",
   "name": "python",
   "nbconvert_exporter": "python",
   "pygments_lexer": "ipython3",
   "version": "3.10.14"
  }
 },
 "nbformat": 4,
 "nbformat_minor": 2
}
