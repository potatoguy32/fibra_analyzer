{
 "cells": [
  {
   "cell_type": "code",
   "execution_count": 1,
   "metadata": {},
   "outputs": [],
   "source": [
    "import os\n",
    "import pathlib\n",
    "import re\n",
    "import datetime\n",
    "\n",
    "from src.data import text_handlers\n",
    "from src.data import web_scrappers\n",
    "from src.data import make_dataset\n",
    "from src.models.optmization_model import PortfolioOptimizer\n",
    "\n",
    "\n",
    "from pypdf import PdfReader\n",
    "from tabula import read_pdf\n",
    "import dateparser\n",
    "\n",
    "import pandas as pd\n",
    "\n",
    "\n",
    "%load_ext dotenv\n",
    "%dotenv\n",
    "\n",
    "REPORTS_STORE_PATH = os.environ['REPORTS_STORE_PATH']"
   ]
  },
  {
   "cell_type": "markdown",
   "metadata": {},
   "source": [
    "# Historical market data workflow"
   ]
  },
  {
   "cell_type": "code",
   "execution_count": 2,
   "metadata": {},
   "outputs": [
    {
     "name": "stderr",
     "output_type": "stream",
     "text": [
      "[*********************100%%**********************]  4 of 4 completed\n"
     ]
    },
    {
     "name": "stdout",
     "output_type": "stream",
     "text": [
      "Loading 9013 entries into database...\n",
      "Succesfully loaded new data in database, returning dataset for validations...\n"
     ]
    },
    {
     "data": {
      "text/html": [
       "<div>\n",
       "<style scoped>\n",
       "    .dataframe tbody tr th:only-of-type {\n",
       "        vertical-align: middle;\n",
       "    }\n",
       "\n",
       "    .dataframe tbody tr th {\n",
       "        vertical-align: top;\n",
       "    }\n",
       "\n",
       "    .dataframe thead th {\n",
       "        text-align: right;\n",
       "    }\n",
       "</style>\n",
       "<table border=\"1\" class=\"dataframe\">\n",
       "  <thead>\n",
       "    <tr style=\"text-align: right;\">\n",
       "      <th></th>\n",
       "      <th>date</th>\n",
       "      <th>ticker</th>\n",
       "      <th>avg_price</th>\n",
       "      <th>dividends</th>\n",
       "    </tr>\n",
       "  </thead>\n",
       "  <tbody>\n",
       "    <tr>\n",
       "      <th>21253</th>\n",
       "      <td>2024-06-25</td>\n",
       "      <td>FNOVA17.MX</td>\n",
       "      <td>28.15</td>\n",
       "      <td>0.0</td>\n",
       "    </tr>\n",
       "    <tr>\n",
       "      <th>21254</th>\n",
       "      <td>2024-06-26</td>\n",
       "      <td>FNOVA17.MX</td>\n",
       "      <td>28.15</td>\n",
       "      <td>0.0</td>\n",
       "    </tr>\n",
       "    <tr>\n",
       "      <th>21255</th>\n",
       "      <td>2024-06-27</td>\n",
       "      <td>FNOVA17.MX</td>\n",
       "      <td>28.15</td>\n",
       "      <td>0.0</td>\n",
       "    </tr>\n",
       "    <tr>\n",
       "      <th>21256</th>\n",
       "      <td>2024-06-28</td>\n",
       "      <td>FNOVA17.MX</td>\n",
       "      <td>28.15</td>\n",
       "      <td>0.0</td>\n",
       "    </tr>\n",
       "    <tr>\n",
       "      <th>21257</th>\n",
       "      <td>2024-07-01</td>\n",
       "      <td>FNOVA17.MX</td>\n",
       "      <td>28.15</td>\n",
       "      <td>0.0</td>\n",
       "    </tr>\n",
       "  </tbody>\n",
       "</table>\n",
       "</div>"
      ],
      "text/plain": [
       "            date      ticker  avg_price  dividends\n",
       "21253 2024-06-25  FNOVA17.MX      28.15        0.0\n",
       "21254 2024-06-26  FNOVA17.MX      28.15        0.0\n",
       "21255 2024-06-27  FNOVA17.MX      28.15        0.0\n",
       "21256 2024-06-28  FNOVA17.MX      28.15        0.0\n",
       "21257 2024-07-01  FNOVA17.MX      28.15        0.0"
      ]
     },
     "metadata": {},
     "output_type": "display_data"
    },
    {
     "name": "stderr",
     "output_type": "stream",
     "text": [
      "[*********************100%%**********************]  15 of 15 completed"
     ]
    },
    {
     "name": "stdout",
     "output_type": "stream",
     "text": [
      "Loading 30 entries into database...\n",
      "Succesfully loaded new data in database, returning dataset for validations...\n"
     ]
    },
    {
     "name": "stderr",
     "output_type": "stream",
     "text": [
      "\n"
     ]
    },
    {
     "data": {
      "text/html": [
       "<div>\n",
       "<style scoped>\n",
       "    .dataframe tbody tr th:only-of-type {\n",
       "        vertical-align: middle;\n",
       "    }\n",
       "\n",
       "    .dataframe tbody tr th {\n",
       "        vertical-align: top;\n",
       "    }\n",
       "\n",
       "    .dataframe thead th {\n",
       "        text-align: right;\n",
       "    }\n",
       "</style>\n",
       "<table border=\"1\" class=\"dataframe\">\n",
       "  <thead>\n",
       "    <tr style=\"text-align: right;\">\n",
       "      <th>Price</th>\n",
       "      <th>ticker</th>\n",
       "      <th>Date</th>\n",
       "      <th>Open</th>\n",
       "      <th>High</th>\n",
       "      <th>Low</th>\n",
       "      <th>Close</th>\n",
       "      <th>Volume</th>\n",
       "      <th>Dividends</th>\n",
       "      <th>Stock Splits</th>\n",
       "    </tr>\n",
       "  </thead>\n",
       "  <tbody>\n",
       "    <tr>\n",
       "      <th>25</th>\n",
       "      <td>FIBRAUP18.MX</td>\n",
       "      <td>2024-07-17</td>\n",
       "      <td>31.799999</td>\n",
       "      <td>31.799999</td>\n",
       "      <td>31.799999</td>\n",
       "      <td>31.799999</td>\n",
       "      <td>0</td>\n",
       "      <td>0.0</td>\n",
       "      <td>0.0</td>\n",
       "    </tr>\n",
       "    <tr>\n",
       "      <th>26</th>\n",
       "      <td>FIBRAPL14.MX</td>\n",
       "      <td>2024-07-16</td>\n",
       "      <td>65.000000</td>\n",
       "      <td>65.540001</td>\n",
       "      <td>64.809998</td>\n",
       "      <td>65.019997</td>\n",
       "      <td>934638</td>\n",
       "      <td>0.0</td>\n",
       "      <td>0.0</td>\n",
       "    </tr>\n",
       "    <tr>\n",
       "      <th>27</th>\n",
       "      <td>FIBRAPL14.MX</td>\n",
       "      <td>2024-07-17</td>\n",
       "      <td>65.220001</td>\n",
       "      <td>65.220001</td>\n",
       "      <td>62.700001</td>\n",
       "      <td>63.279999</td>\n",
       "      <td>1839883</td>\n",
       "      <td>0.0</td>\n",
       "      <td>0.0</td>\n",
       "    </tr>\n",
       "    <tr>\n",
       "      <th>28</th>\n",
       "      <td>FMTY14.MX</td>\n",
       "      <td>2024-07-16</td>\n",
       "      <td>9.990000</td>\n",
       "      <td>9.990000</td>\n",
       "      <td>9.720000</td>\n",
       "      <td>9.750000</td>\n",
       "      <td>629055</td>\n",
       "      <td>0.0</td>\n",
       "      <td>0.0</td>\n",
       "    </tr>\n",
       "    <tr>\n",
       "      <th>29</th>\n",
       "      <td>FMTY14.MX</td>\n",
       "      <td>2024-07-17</td>\n",
       "      <td>9.810000</td>\n",
       "      <td>9.850000</td>\n",
       "      <td>9.700000</td>\n",
       "      <td>9.720000</td>\n",
       "      <td>531599</td>\n",
       "      <td>0.0</td>\n",
       "      <td>0.0</td>\n",
       "    </tr>\n",
       "  </tbody>\n",
       "</table>\n",
       "</div>"
      ],
      "text/plain": [
       "Price        ticker        Date       Open       High        Low      Close  \\\n",
       "25     FIBRAUP18.MX  2024-07-17  31.799999  31.799999  31.799999  31.799999   \n",
       "26     FIBRAPL14.MX  2024-07-16  65.000000  65.540001  64.809998  65.019997   \n",
       "27     FIBRAPL14.MX  2024-07-17  65.220001  65.220001  62.700001  63.279999   \n",
       "28        FMTY14.MX  2024-07-16   9.990000   9.990000   9.720000   9.750000   \n",
       "29        FMTY14.MX  2024-07-17   9.810000   9.850000   9.700000   9.720000   \n",
       "\n",
       "Price   Volume  Dividends  Stock Splits  \n",
       "25           0        0.0           0.0  \n",
       "26      934638        0.0           0.0  \n",
       "27     1839883        0.0           0.0  \n",
       "28      629055        0.0           0.0  \n",
       "29      531599        0.0           0.0  "
      ]
     },
     "metadata": {},
     "output_type": "display_data"
    }
   ],
   "source": [
    "# All functions can take either a single ticker or a list of tickers compatibles with yahoo finance API\n",
    "tickers_sample = ['FMTY14.MX', 'FNOVA17.MX', 'FIBRAMQ12.MX', 'FIBRAPL14.MX']\n",
    "\n",
    "# This function adds the new ticker to local database and returns a pandas dataframe for validations\n",
    "new_data = make_dataset.add_new_tickers(tickers=tickers_sample, start_date='2012-12-01', end_date = '2024-06-01')\n",
    "\n",
    "# Note dates after 2024-06-01 are still not in local DB\n",
    "existing_data = make_dataset.get_market_dataset(ticker=tickers_sample, start_date='2012-12-01', end_date = '2024-07-01')\n",
    "display(existing_data.tail(5))\n",
    "\n",
    "# This function does not take specific tickers, it rathers update all tickers in local DB\n",
    "updated_data = make_dataset.update_market_data()\n",
    "display(updated_data.tail(5))\n",
    "\n",
    "# Finally you can delete tickers from the local DB (not using it right now for the demo)\n",
    "# make_dataset.delete_tickers(tickers=tickers_sample)"
   ]
  },
  {
   "cell_type": "markdown",
   "metadata": {},
   "source": [
    "# Future dividends extraction from financial reports"
   ]
  },
  {
   "cell_type": "code",
   "execution_count": 3,
   "metadata": {},
   "outputs": [
    {
     "name": "stdout",
     "output_type": "stream",
     "text": [
      "Sucessfully saved 1 pdf reports.\n",
      "Sucessfully saved 5 pdf reports.\n",
      "Sucessfully saved 3 pdf reports.\n"
     ]
    }
   ],
   "source": [
    "# Each FIBRA will have its own scrapper class and text extractor class (excluding FIBRAMQ12 since its web site is not scrapable with beautiful soup)\n",
    "scrapper_fmty14 = web_scrappers.ScrapperFMTY14()\n",
    "scrapper_fnova17 = web_scrappers.ScrapperFNOVA17()\n",
    "scrapper_fibrapl14 = web_scrappers.ScrapperFIBRAPL14()\n",
    "\n",
    "# This method automatically creates a folder for each FIBRA in the REPORTS_STORE_PATH path from .env file\n",
    "scrapper_fmty14.update_financial_reports()\n",
    "scrapper_fnova17.update_financial_reports()\n",
    "scrapper_fibrapl14.update_financial_reports()"
   ]
  },
  {
   "cell_type": "code",
   "execution_count": 4,
   "metadata": {},
   "outputs": [
    {
     "name": "stdout",
     "output_type": "stream",
     "text": [
      "===================  TextHandlerFMTY14 =================== \n",
      "{'ticker': 'FMTY14.MX', 'announcement_date': '2024-02-21', 'dividend_date': '2024-02-29', 'dividend_amount': '0.0750133309617115'}\n",
      "{'ticker': 'FMTY14.MX', 'announcement_date': '2024-02-23', 'dividend_date': '2024-03-04', 'dividend_amount': None}\n",
      "{'ticker': 'FMTY14.MX', 'announcement_date': '2024-06-20', 'dividend_date': '2024-06-28', 'dividend_amount': '0.0729148160167858'}\n",
      "===================  TextHandlerFIBRAPL14 =================== \n",
      "{'ticker': 'FIBRAPL14.MX', 'announcement_date': '2024-04-17', 'dividend_date': '2024-05-02', 'dividend_amount': '0.598'}\n",
      "{'ticker': 'FIBRAPL14.MX', 'announcement_date': '2024-02-22', 'dividend_date': '2024-03-06', 'dividend_amount': '0.3645'}\n"
     ]
    },
    {
     "name": "stderr",
     "output_type": "stream",
     "text": [
      "'pages' argument isn't specified.Will extract only from page 1 by default.\n"
     ]
    },
    {
     "name": "stdout",
     "output_type": "stream",
     "text": [
      "{'ticker': 'FIBRAPL14.MX', 'announcement_date': '2024-01-17', 'dividend_date': '2024-02-01', 'dividend_amount': '2.0269'}\n",
      "===================  TextHandlerFNOVA17 =================== \n"
     ]
    },
    {
     "name": "stderr",
     "output_type": "stream",
     "text": [
      "'pages' argument isn't specified.Will extract only from page 1 by default.\n",
      "'pages' argument isn't specified.Will extract only from page 1 by default.\n"
     ]
    },
    {
     "name": "stdout",
     "output_type": "stream",
     "text": [
      "{'ticker': 'FNOVA17.MX', 'announcement_date': '2024-04-15', 'dividend_date': '2024-04-23', 'dividend_amount': 0.575027304}\n"
     ]
    },
    {
     "name": "stderr",
     "output_type": "stream",
     "text": [
      "'pages' argument isn't specified.Will extract only from page 1 by default.\n"
     ]
    },
    {
     "name": "stdout",
     "output_type": "stream",
     "text": [
      "{'ticker': 'FNOVA17.MX', 'announcement_date': '2023-11-16', 'dividend_date': '2023-11-27', 'dividend_amount': 0.561609687}\n"
     ]
    },
    {
     "name": "stderr",
     "output_type": "stream",
     "text": [
      "'pages' argument isn't specified.Will extract only from page 1 by default.\n"
     ]
    },
    {
     "name": "stdout",
     "output_type": "stream",
     "text": [
      "{'ticker': 'FNOVA17.MX', 'announcement_date': '2024-02-19', 'dividend_date': '2024-02-28', 'dividend_amount': 0.530664143}\n",
      "===================  TextHandlerFIBRAMQ12 =================== \n",
      "{'ticker': 'FIBRAMQ12.MX', 'announcement_date': '2024-04-25', 'dividend_date': '2024-06-17', 'dividend_amount': '0.5250'}\n",
      "Skipping line. Details:\n",
      "[{'type': 'float_type', 'loc': ('dividend_amount',), 'msg': 'Input should be a valid number', 'input': None, 'url': 'https://errors.pydantic.dev/2.8/v/float_type'}]\n"
     ]
    }
   ],
   "source": [
    "# Extract dividends info from reports (this is used only for future dates, historical dividends are included in market data)\n",
    "asset_map ={\n",
    "    'FMTY14': text_handlers.TextHandlerFMTY14,\n",
    "    'FIBRAPL14': text_handlers.TextHandlerFIBRAPL14,\n",
    "    'FNOVA17': text_handlers.TextHandlerFNOVA17,\n",
    "    'FIBRAMQ12': text_handlers.TextHandlerFIBRAMQ12,\n",
    "    }\n",
    "\n",
    "# This function uploads info extracted from financial reports to local DB\n",
    "make_dataset.update_dividend_data(asset_map)"
   ]
  },
  {
   "cell_type": "markdown",
   "metadata": {},
   "source": [
    "# Get a historical data sample along with a forecast for a specified time window"
   ]
  },
  {
   "cell_type": "code",
   "execution_count": 7,
   "metadata": {},
   "outputs": [
    {
     "name": "stderr",
     "output_type": "stream",
     "text": [
      "c:\\Users\\alanc\\miniconda3\\envs\\fibra_analyzer_env\\lib\\site-packages\\torch\\nn\\utils\\weight_norm.py:28: UserWarning: torch.nn.utils.weight_norm is deprecated in favor of torch.nn.utils.parametrizations.weight_norm.\n",
      "  warnings.warn(\"torch.nn.utils.weight_norm is deprecated in favor of torch.nn.utils.parametrizations.weight_norm.\")\n",
      "GPU available: False, used: False\n",
      "TPU available: False, using: 0 TPU cores\n",
      "IPU available: False, using: 0 IPUs\n",
      "HPU available: False, using: 0 HPUs\n",
      "`Trainer.fit` stopped: `max_epochs=100` reached.\n",
      "c:\\Users\\alanc\\miniconda3\\envs\\fibra_analyzer_env\\lib\\site-packages\\torch\\nn\\utils\\weight_norm.py:28: UserWarning: torch.nn.utils.weight_norm is deprecated in favor of torch.nn.utils.parametrizations.weight_norm.\n",
      "  warnings.warn(\"torch.nn.utils.weight_norm is deprecated in favor of torch.nn.utils.parametrizations.weight_norm.\")\n",
      "GPU available: False, used: False\n",
      "TPU available: False, using: 0 TPU cores\n",
      "IPU available: False, using: 0 IPUs\n",
      "HPU available: False, using: 0 HPUs\n"
     ]
    },
    {
     "data": {
      "application/vnd.jupyter.widget-view+json": {
       "model_id": "db1a3fa65f9d4779809a7a15a13645aa",
       "version_major": 2,
       "version_minor": 0
      },
      "text/plain": [
       "Predicting: |          | 0/? [00:00<?, ?it/s]"
      ]
     },
     "metadata": {},
     "output_type": "display_data"
    },
    {
     "name": "stderr",
     "output_type": "stream",
     "text": [
      "GPU available: False, used: False\n",
      "TPU available: False, using: 0 TPU cores\n",
      "IPU available: False, using: 0 IPUs\n",
      "HPU available: False, using: 0 HPUs\n"
     ]
    },
    {
     "data": {
      "text/html": [
       "<div>\n",
       "<style scoped>\n",
       "    .dataframe tbody tr th:only-of-type {\n",
       "        vertical-align: middle;\n",
       "    }\n",
       "\n",
       "    .dataframe tbody tr th {\n",
       "        vertical-align: top;\n",
       "    }\n",
       "\n",
       "    .dataframe thead th {\n",
       "        text-align: right;\n",
       "    }\n",
       "</style>\n",
       "<table border=\"1\" class=\"dataframe\">\n",
       "  <thead>\n",
       "    <tr style=\"text-align: right;\">\n",
       "      <th></th>\n",
       "      <th>date</th>\n",
       "      <th>ticker</th>\n",
       "      <th>avg_price</th>\n",
       "      <th>dividends</th>\n",
       "      <th>source</th>\n",
       "    </tr>\n",
       "  </thead>\n",
       "  <tbody>\n",
       "    <tr>\n",
       "      <th>0</th>\n",
       "      <td>2021-01-04</td>\n",
       "      <td>FMTY14.MX</td>\n",
       "      <td>8.775499</td>\n",
       "      <td>0.0</td>\n",
       "      <td>actual</td>\n",
       "    </tr>\n",
       "    <tr>\n",
       "      <th>1</th>\n",
       "      <td>2021-01-05</td>\n",
       "      <td>FMTY14.MX</td>\n",
       "      <td>8.824704</td>\n",
       "      <td>0.0</td>\n",
       "      <td>actual</td>\n",
       "    </tr>\n",
       "    <tr>\n",
       "      <th>2</th>\n",
       "      <td>2021-01-06</td>\n",
       "      <td>FMTY14.MX</td>\n",
       "      <td>8.896615</td>\n",
       "      <td>0.0</td>\n",
       "      <td>actual</td>\n",
       "    </tr>\n",
       "    <tr>\n",
       "      <th>3</th>\n",
       "      <td>2021-01-07</td>\n",
       "      <td>FMTY14.MX</td>\n",
       "      <td>8.921222</td>\n",
       "      <td>0.0</td>\n",
       "      <td>actual</td>\n",
       "    </tr>\n",
       "    <tr>\n",
       "      <th>4</th>\n",
       "      <td>2021-01-08</td>\n",
       "      <td>FMTY14.MX</td>\n",
       "      <td>8.904188</td>\n",
       "      <td>0.0</td>\n",
       "      <td>actual</td>\n",
       "    </tr>\n",
       "    <tr>\n",
       "      <th>...</th>\n",
       "      <td>...</td>\n",
       "      <td>...</td>\n",
       "      <td>...</td>\n",
       "      <td>...</td>\n",
       "      <td>...</td>\n",
       "    </tr>\n",
       "    <tr>\n",
       "      <th>775</th>\n",
       "      <td>2024-01-22</td>\n",
       "      <td>FMTY14.MX</td>\n",
       "      <td>11.501997</td>\n",
       "      <td>0.0</td>\n",
       "      <td>prediction</td>\n",
       "    </tr>\n",
       "    <tr>\n",
       "      <th>776</th>\n",
       "      <td>2024-01-23</td>\n",
       "      <td>FMTY14.MX</td>\n",
       "      <td>11.553594</td>\n",
       "      <td>0.0</td>\n",
       "      <td>prediction</td>\n",
       "    </tr>\n",
       "    <tr>\n",
       "      <th>777</th>\n",
       "      <td>2024-01-24</td>\n",
       "      <td>FMTY14.MX</td>\n",
       "      <td>11.592491</td>\n",
       "      <td>0.0</td>\n",
       "      <td>prediction</td>\n",
       "    </tr>\n",
       "    <tr>\n",
       "      <th>778</th>\n",
       "      <td>2024-01-25</td>\n",
       "      <td>FMTY14.MX</td>\n",
       "      <td>11.766363</td>\n",
       "      <td>0.0</td>\n",
       "      <td>prediction</td>\n",
       "    </tr>\n",
       "    <tr>\n",
       "      <th>779</th>\n",
       "      <td>2024-01-26</td>\n",
       "      <td>FMTY14.MX</td>\n",
       "      <td>11.870235</td>\n",
       "      <td>0.0</td>\n",
       "      <td>prediction</td>\n",
       "    </tr>\n",
       "  </tbody>\n",
       "</table>\n",
       "<p>780 rows × 5 columns</p>\n",
       "</div>"
      ],
      "text/plain": [
       "          date     ticker  avg_price  dividends      source\n",
       "0   2021-01-04  FMTY14.MX   8.775499        0.0      actual\n",
       "1   2021-01-05  FMTY14.MX   8.824704        0.0      actual\n",
       "2   2021-01-06  FMTY14.MX   8.896615        0.0      actual\n",
       "3   2021-01-07  FMTY14.MX   8.921222        0.0      actual\n",
       "4   2021-01-08  FMTY14.MX   8.904188        0.0      actual\n",
       "..         ...        ...        ...        ...         ...\n",
       "775 2024-01-22  FMTY14.MX  11.501997        0.0  prediction\n",
       "776 2024-01-23  FMTY14.MX  11.553594        0.0  prediction\n",
       "777 2024-01-24  FMTY14.MX  11.592491        0.0  prediction\n",
       "778 2024-01-25  FMTY14.MX  11.766363        0.0  prediction\n",
       "779 2024-01-26  FMTY14.MX  11.870235        0.0  prediction\n",
       "\n",
       "[780 rows x 5 columns]"
      ]
     },
     "execution_count": 7,
     "metadata": {},
     "output_type": "execute_result"
    }
   ],
   "source": [
    "# This function works for a single ticker and for a time window after the end date (I am hiding the output here because there are a lot of prints from ML model training|)\n",
    "sample_df = make_dataset.get_ticker_dataset('FMTY14.MX', '2021-01-01', '2024-01-01', 20)"
   ]
  },
  {
   "cell_type": "markdown",
   "metadata": {},
   "source": [
    "# Define a financial portfolio"
   ]
  },
  {
   "cell_type": "code",
   "execution_count": 15,
   "metadata": {},
   "outputs": [],
   "source": [
    "optimizer = PortfolioOptimizer(tickers_sample)"
   ]
  },
  {
   "cell_type": "code",
   "execution_count": 16,
   "metadata": {},
   "outputs": [
    {
     "data": {
      "text/plain": [
       "[0.25, 0.25, 0.25, 0.25]"
      ]
     },
     "execution_count": 16,
     "metadata": {},
     "output_type": "execute_result"
    }
   ],
   "source": [
    "# By default it asumes an even share distribution\n",
    "optimizer.get_weights()"
   ]
  },
  {
   "cell_type": "code",
   "execution_count": 17,
   "metadata": {},
   "outputs": [
    {
     "name": "stderr",
     "output_type": "stream",
     "text": [
      "c:\\Users\\alanc\\miniconda3\\envs\\fibra_analyzer_env\\lib\\site-packages\\torch\\nn\\utils\\weight_norm.py:28: UserWarning: torch.nn.utils.weight_norm is deprecated in favor of torch.nn.utils.parametrizations.weight_norm.\n",
      "  warnings.warn(\"torch.nn.utils.weight_norm is deprecated in favor of torch.nn.utils.parametrizations.weight_norm.\")\n",
      "GPU available: False, used: False\n",
      "TPU available: False, using: 0 TPU cores\n",
      "IPU available: False, using: 0 IPUs\n",
      "HPU available: False, using: 0 HPUs\n",
      "`Trainer.fit` stopped: `max_epochs=100` reached.\n",
      "c:\\Users\\alanc\\miniconda3\\envs\\fibra_analyzer_env\\lib\\site-packages\\torch\\nn\\utils\\weight_norm.py:28: UserWarning: torch.nn.utils.weight_norm is deprecated in favor of torch.nn.utils.parametrizations.weight_norm.\n",
      "  warnings.warn(\"torch.nn.utils.weight_norm is deprecated in favor of torch.nn.utils.parametrizations.weight_norm.\")\n",
      "GPU available: False, used: False\n",
      "TPU available: False, using: 0 TPU cores\n",
      "IPU available: False, using: 0 IPUs\n",
      "HPU available: False, using: 0 HPUs\n"
     ]
    },
    {
     "data": {
      "application/vnd.jupyter.widget-view+json": {
       "model_id": "58a19a9fad3d4b8e8cc0f6be4f7b65f6",
       "version_major": 2,
       "version_minor": 0
      },
      "text/plain": [
       "Predicting: |          | 0/? [00:00<?, ?it/s]"
      ]
     },
     "metadata": {},
     "output_type": "display_data"
    },
    {
     "name": "stderr",
     "output_type": "stream",
     "text": [
      "GPU available: False, used: False\n",
      "TPU available: False, using: 0 TPU cores\n",
      "IPU available: False, using: 0 IPUs\n",
      "HPU available: False, using: 0 HPUs\n",
      "c:\\Users\\alanc\\miniconda3\\envs\\fibra_analyzer_env\\lib\\site-packages\\torch\\nn\\utils\\weight_norm.py:28: UserWarning: torch.nn.utils.weight_norm is deprecated in favor of torch.nn.utils.parametrizations.weight_norm.\n",
      "  warnings.warn(\"torch.nn.utils.weight_norm is deprecated in favor of torch.nn.utils.parametrizations.weight_norm.\")\n",
      "GPU available: False, used: False\n",
      "TPU available: False, using: 0 TPU cores\n",
      "IPU available: False, using: 0 IPUs\n",
      "HPU available: False, using: 0 HPUs\n",
      "`Trainer.fit` stopped: `max_epochs=100` reached.\n",
      "c:\\Users\\alanc\\miniconda3\\envs\\fibra_analyzer_env\\lib\\site-packages\\torch\\nn\\utils\\weight_norm.py:28: UserWarning: torch.nn.utils.weight_norm is deprecated in favor of torch.nn.utils.parametrizations.weight_norm.\n",
      "  warnings.warn(\"torch.nn.utils.weight_norm is deprecated in favor of torch.nn.utils.parametrizations.weight_norm.\")\n",
      "GPU available: False, used: False\n",
      "TPU available: False, using: 0 TPU cores\n",
      "IPU available: False, using: 0 IPUs\n",
      "HPU available: False, using: 0 HPUs\n"
     ]
    },
    {
     "data": {
      "application/vnd.jupyter.widget-view+json": {
       "model_id": "bee5fde8a8cb4c12b3c53a1c10d8742e",
       "version_major": 2,
       "version_minor": 0
      },
      "text/plain": [
       "Predicting: |          | 0/? [00:00<?, ?it/s]"
      ]
     },
     "metadata": {},
     "output_type": "display_data"
    },
    {
     "name": "stderr",
     "output_type": "stream",
     "text": [
      "GPU available: False, used: False\n",
      "TPU available: False, using: 0 TPU cores\n",
      "IPU available: False, using: 0 IPUs\n",
      "HPU available: False, using: 0 HPUs\n",
      "c:\\Users\\alanc\\miniconda3\\envs\\fibra_analyzer_env\\lib\\site-packages\\torch\\nn\\utils\\weight_norm.py:28: UserWarning: torch.nn.utils.weight_norm is deprecated in favor of torch.nn.utils.parametrizations.weight_norm.\n",
      "  warnings.warn(\"torch.nn.utils.weight_norm is deprecated in favor of torch.nn.utils.parametrizations.weight_norm.\")\n",
      "GPU available: False, used: False\n",
      "TPU available: False, using: 0 TPU cores\n",
      "IPU available: False, using: 0 IPUs\n",
      "HPU available: False, using: 0 HPUs\n",
      "`Trainer.fit` stopped: `max_epochs=100` reached.\n",
      "c:\\Users\\alanc\\miniconda3\\envs\\fibra_analyzer_env\\lib\\site-packages\\torch\\nn\\utils\\weight_norm.py:28: UserWarning: torch.nn.utils.weight_norm is deprecated in favor of torch.nn.utils.parametrizations.weight_norm.\n",
      "  warnings.warn(\"torch.nn.utils.weight_norm is deprecated in favor of torch.nn.utils.parametrizations.weight_norm.\")\n",
      "GPU available: False, used: False\n",
      "TPU available: False, using: 0 TPU cores\n",
      "IPU available: False, using: 0 IPUs\n",
      "HPU available: False, using: 0 HPUs\n"
     ]
    },
    {
     "data": {
      "application/vnd.jupyter.widget-view+json": {
       "model_id": "200b544159b54fa6a01886eb40831ad0",
       "version_major": 2,
       "version_minor": 0
      },
      "text/plain": [
       "Predicting: |          | 0/? [00:00<?, ?it/s]"
      ]
     },
     "metadata": {},
     "output_type": "display_data"
    },
    {
     "name": "stderr",
     "output_type": "stream",
     "text": [
      "GPU available: False, used: False\n",
      "TPU available: False, using: 0 TPU cores\n",
      "IPU available: False, using: 0 IPUs\n",
      "HPU available: False, using: 0 HPUs\n",
      "c:\\Users\\alanc\\miniconda3\\envs\\fibra_analyzer_env\\lib\\site-packages\\torch\\nn\\utils\\weight_norm.py:28: UserWarning: torch.nn.utils.weight_norm is deprecated in favor of torch.nn.utils.parametrizations.weight_norm.\n",
      "  warnings.warn(\"torch.nn.utils.weight_norm is deprecated in favor of torch.nn.utils.parametrizations.weight_norm.\")\n",
      "GPU available: False, used: False\n",
      "TPU available: False, using: 0 TPU cores\n",
      "IPU available: False, using: 0 IPUs\n",
      "HPU available: False, using: 0 HPUs\n"
     ]
    },
    {
     "name": "stdout",
     "output_type": "stream",
     "text": [
      "Found an existing model for this. Use load_model method to use it or continue with training to replace it\n"
     ]
    },
    {
     "name": "stderr",
     "output_type": "stream",
     "text": [
      "`Trainer.fit` stopped: `max_epochs=100` reached.\n",
      "c:\\Users\\alanc\\miniconda3\\envs\\fibra_analyzer_env\\lib\\site-packages\\torch\\nn\\utils\\weight_norm.py:28: UserWarning: torch.nn.utils.weight_norm is deprecated in favor of torch.nn.utils.parametrizations.weight_norm.\n",
      "  warnings.warn(\"torch.nn.utils.weight_norm is deprecated in favor of torch.nn.utils.parametrizations.weight_norm.\")\n",
      "GPU available: False, used: False\n",
      "TPU available: False, using: 0 TPU cores\n",
      "IPU available: False, using: 0 IPUs\n",
      "HPU available: False, using: 0 HPUs\n"
     ]
    },
    {
     "data": {
      "application/vnd.jupyter.widget-view+json": {
       "model_id": "bd9754badb63429e83a81fb4abdf2e3e",
       "version_major": 2,
       "version_minor": 0
      },
      "text/plain": [
       "Predicting: |          | 0/? [00:00<?, ?it/s]"
      ]
     },
     "metadata": {},
     "output_type": "display_data"
    },
    {
     "name": "stderr",
     "output_type": "stream",
     "text": [
      "GPU available: False, used: False\n",
      "TPU available: False, using: 0 TPU cores\n",
      "IPU available: False, using: 0 IPUs\n",
      "HPU available: False, using: 0 HPUs\n"
     ]
    }
   ],
   "source": [
    "# To optimize portfolio shares we need to set datasets with historical and predicted data (historical data is used to train a model up to the end date)\n",
    "optimizer.make_tickers_dataset('2022-01-01', '2024-01-01')"
   ]
  },
  {
   "cell_type": "code",
   "execution_count": 19,
   "metadata": {},
   "outputs": [
    {
     "data": {
      "text/plain": [
       "[0.0, 0.0, 1.0, 0.0]"
      ]
     },
     "execution_count": 19,
     "metadata": {},
     "output_type": "execute_result"
    }
   ],
   "source": [
    "# This method compares current weights to the latest value in the forecast to compute optimal weights\n",
    "optimizer.compute_optimal_weights()\n",
    "optimizer.get_weights()"
   ]
  },
  {
   "cell_type": "markdown",
   "metadata": {},
   "source": [
    "# Run a backtest from historical values to evaluate strategy"
   ]
  },
  {
   "cell_type": "code",
   "execution_count": 1,
   "metadata": {},
   "outputs": [],
   "source": [
    "# Consider this process will take a LOT of time to complete (also deleted the jupyter outputs because this will generate a lot of prints)\n",
    "prediction_window = 20\n",
    "initial_investment = 50_000\n",
    "backtest_start_date = datetime.datetime.strptime('2023-01-01', '%Y-%m-%d')\n",
    "backtest_end_date = datetime.datetime.strptime('2024-07-01', '%Y-%m-%d')\n",
    "price_holder = PortfolioOptimizer(tickers_sample)\n",
    "price_holder.run_backtest(backtest_start_date, backtest_end_date, prediction_window, initial_investment)"
   ]
  },
  {
   "cell_type": "code",
   "execution_count": 24,
   "metadata": {},
   "outputs": [
    {
     "data": {
      "text/html": [
       "<div>\n",
       "<style scoped>\n",
       "    .dataframe tbody tr th:only-of-type {\n",
       "        vertical-align: middle;\n",
       "    }\n",
       "\n",
       "    .dataframe tbody tr th {\n",
       "        vertical-align: top;\n",
       "    }\n",
       "\n",
       "    .dataframe thead th {\n",
       "        text-align: right;\n",
       "    }\n",
       "</style>\n",
       "<table border=\"1\" class=\"dataframe\">\n",
       "  <thead>\n",
       "    <tr style=\"text-align: right;\">\n",
       "      <th></th>\n",
       "      <th>tickers</th>\n",
       "      <th>date</th>\n",
       "      <th>portfolio_share</th>\n",
       "      <th>portfolio_composition</th>\n",
       "      <th>paid_dividends</th>\n",
       "      <th>pnl</th>\n",
       "    </tr>\n",
       "  </thead>\n",
       "  <tbody>\n",
       "    <tr>\n",
       "      <th>0</th>\n",
       "      <td>[FMTY14, FNOVA17, FIBRAMQ12, FIBRAPL14]</td>\n",
       "      <td>2023-01-27</td>\n",
       "      <td>[0.0, 1.0, 0.0, 0.0]</td>\n",
       "      <td>[0, 2107, 0, 0]</td>\n",
       "      <td>528.356374</td>\n",
       "      <td>5710.945652</td>\n",
       "    </tr>\n",
       "    <tr>\n",
       "      <th>1</th>\n",
       "      <td>[FMTY14, FNOVA17, FIBRAMQ12, FIBRAPL14]</td>\n",
       "      <td>2023-02-24</td>\n",
       "      <td>[0.0, 0.0, 0.7681, 0.2319]</td>\n",
       "      <td>[0, 0, 1266, 394]</td>\n",
       "      <td>0.000000</td>\n",
       "      <td>8727.761655</td>\n",
       "    </tr>\n",
       "    <tr>\n",
       "      <th>2</th>\n",
       "      <td>[FMTY14, FNOVA17, FIBRAMQ12, FIBRAPL14]</td>\n",
       "      <td>2023-03-24</td>\n",
       "      <td>[1.0, 0.0, 0.0, 0.0]</td>\n",
       "      <td>[5460, 0, 0, 0]</td>\n",
       "      <td>802.035754</td>\n",
       "      <td>11667.243835</td>\n",
       "    </tr>\n",
       "    <tr>\n",
       "      <th>3</th>\n",
       "      <td>[FMTY14, FNOVA17, FIBRAMQ12, FIBRAPL14]</td>\n",
       "      <td>2023-04-21</td>\n",
       "      <td>[1.0, 0.0, 0.0, 0.0]</td>\n",
       "      <td>[5186, 0, 0, 0]</td>\n",
       "      <td>0.000000</td>\n",
       "      <td>8899.002312</td>\n",
       "    </tr>\n",
       "    <tr>\n",
       "      <th>4</th>\n",
       "      <td>[FMTY14, FNOVA17, FIBRAMQ12, FIBRAPL14]</td>\n",
       "      <td>2023-05-19</td>\n",
       "      <td>[0.0, 0.2665, 0.7335, 0.0]</td>\n",
       "      <td>[0, 477, 1468, 0]</td>\n",
       "      <td>0.000000</td>\n",
       "      <td>4062.336744</td>\n",
       "    </tr>\n",
       "    <tr>\n",
       "      <th>5</th>\n",
       "      <td>[FMTY14, FNOVA17, FIBRAMQ12, FIBRAPL14]</td>\n",
       "      <td>2023-06-16</td>\n",
       "      <td>[0.401, 0.2834, 0.3157, 0.0]</td>\n",
       "      <td>[2141, 615, 635, 0]</td>\n",
       "      <td>0.000000</td>\n",
       "      <td>8515.645728</td>\n",
       "    </tr>\n",
       "    <tr>\n",
       "      <th>6</th>\n",
       "      <td>[FMTY14, FNOVA17, FIBRAMQ12, FIBRAPL14]</td>\n",
       "      <td>2023-07-14</td>\n",
       "      <td>[0.1368, 0.5014, 0.0, 0.3618]</td>\n",
       "      <td>[447, 685, 0, 570]</td>\n",
       "      <td>0.000000</td>\n",
       "      <td>6990.308805</td>\n",
       "    </tr>\n",
       "    <tr>\n",
       "      <th>7</th>\n",
       "      <td>[FMTY14, FNOVA17, FIBRAMQ12, FIBRAPL14]</td>\n",
       "      <td>2023-08-11</td>\n",
       "      <td>[0.9581, 0.0419, 0.0, 0.0]</td>\n",
       "      <td>[5001, 87, 0, 0]</td>\n",
       "      <td>449.855250</td>\n",
       "      <td>6043.994110</td>\n",
       "    </tr>\n",
       "    <tr>\n",
       "      <th>8</th>\n",
       "      <td>[FMTY14, FNOVA17, FIBRAMQ12, FIBRAPL14]</td>\n",
       "      <td>2023-09-08</td>\n",
       "      <td>[0.0, 0.0, 1.0, 0.0]</td>\n",
       "      <td>[0, 0, 1849, 0]</td>\n",
       "      <td>0.000000</td>\n",
       "      <td>5063.358239</td>\n",
       "    </tr>\n",
       "    <tr>\n",
       "      <th>9</th>\n",
       "      <td>[FMTY14, FNOVA17, FIBRAMQ12, FIBRAPL14]</td>\n",
       "      <td>2023-10-06</td>\n",
       "      <td>[0.0, 0.0, 0.271, 0.729]</td>\n",
       "      <td>[0, 0, 157, 891]</td>\n",
       "      <td>0.000000</td>\n",
       "      <td>7807.514056</td>\n",
       "    </tr>\n",
       "    <tr>\n",
       "      <th>10</th>\n",
       "      <td>[FMTY14, FNOVA17, FIBRAMQ12, FIBRAPL14]</td>\n",
       "      <td>2023-11-03</td>\n",
       "      <td>[0.0246, 0.0774, 0.0, 0.898]</td>\n",
       "      <td>[16, 20, 0, 959]</td>\n",
       "      <td>480.965368</td>\n",
       "      <td>12964.778798</td>\n",
       "    </tr>\n",
       "    <tr>\n",
       "      <th>11</th>\n",
       "      <td>[FMTY14, FNOVA17, FIBRAMQ12, FIBRAPL14]</td>\n",
       "      <td>2023-12-01</td>\n",
       "      <td>[0.0, 0.3043, 0.0, 0.6957]</td>\n",
       "      <td>[0, 245, 0, 873]</td>\n",
       "      <td>0.000000</td>\n",
       "      <td>19573.172040</td>\n",
       "    </tr>\n",
       "    <tr>\n",
       "      <th>12</th>\n",
       "      <td>[FMTY14, FNOVA17, FIBRAMQ12, FIBRAPL14]</td>\n",
       "      <td>2023-12-29</td>\n",
       "      <td>[0.0, 0.0, 0.5975, 0.4025]</td>\n",
       "      <td>[0, 0, 853, 618]</td>\n",
       "      <td>0.000000</td>\n",
       "      <td>24609.335841</td>\n",
       "    </tr>\n",
       "    <tr>\n",
       "      <th>13</th>\n",
       "      <td>[FMTY14, FNOVA17, FIBRAMQ12, FIBRAPL14]</td>\n",
       "      <td>2024-01-26</td>\n",
       "      <td>[0.0, 0.4572, 0.0, 0.5428]</td>\n",
       "      <td>[0, 525, 0, 761]</td>\n",
       "      <td>0.000000</td>\n",
       "      <td>18123.260417</td>\n",
       "    </tr>\n",
       "    <tr>\n",
       "      <th>14</th>\n",
       "      <td>[FMTY14, FNOVA17, FIBRAMQ12, FIBRAPL14]</td>\n",
       "      <td>2024-02-23</td>\n",
       "      <td>[0.2672, 0.7328, 0.0, 0.0]</td>\n",
       "      <td>[1619, 1869, 0, 0]</td>\n",
       "      <td>578.267820</td>\n",
       "      <td>21409.666984</td>\n",
       "    </tr>\n",
       "    <tr>\n",
       "      <th>15</th>\n",
       "      <td>[FMTY14, FNOVA17, FIBRAMQ12, FIBRAPL14]</td>\n",
       "      <td>2024-03-22</td>\n",
       "      <td>[0.1235, 0.0, 0.4193, 0.4573]</td>\n",
       "      <td>[398, 0, 476, 678]</td>\n",
       "      <td>106.327936</td>\n",
       "      <td>17104.671504</td>\n",
       "    </tr>\n",
       "    <tr>\n",
       "      <th>16</th>\n",
       "      <td>[FMTY14, FNOVA17, FIBRAMQ12, FIBRAPL14]</td>\n",
       "      <td>2024-04-19</td>\n",
       "      <td>[0.0, 1.0, 0.0, 0.0]</td>\n",
       "      <td>[0, 2257, 0, 0]</td>\n",
       "      <td>0.000000</td>\n",
       "      <td>14422.890582</td>\n",
       "    </tr>\n",
       "    <tr>\n",
       "      <th>17</th>\n",
       "      <td>[FMTY14, FNOVA17, FIBRAMQ12, FIBRAPL14]</td>\n",
       "      <td>2024-05-17</td>\n",
       "      <td>[0.0, 0.0, 1.0, 0.0]</td>\n",
       "      <td>[0, 0, 2116, 0]</td>\n",
       "      <td>566.814248</td>\n",
       "      <td>16943.301785</td>\n",
       "    </tr>\n",
       "    <tr>\n",
       "      <th>18</th>\n",
       "      <td>[FMTY14, FNOVA17, FIBRAMQ12, FIBRAPL14]</td>\n",
       "      <td>2024-06-14</td>\n",
       "      <td>[0.0163, 0.0, 0.5116, 0.4722]</td>\n",
       "      <td>[52, 0, 538, 694]</td>\n",
       "      <td>0.000000</td>\n",
       "      <td>10694.855090</td>\n",
       "    </tr>\n",
       "    <tr>\n",
       "      <th>19</th>\n",
       "      <td>[FMTY14, FNOVA17, FIBRAMQ12, FIBRAPL14]</td>\n",
       "      <td>2024-07-12</td>\n",
       "      <td>[0.0, 1.0, 0.0, 0.0]</td>\n",
       "      <td>[0, 2290, 0, 0]</td>\n",
       "      <td>0.000000</td>\n",
       "      <td>14484.381821</td>\n",
       "    </tr>\n",
       "  </tbody>\n",
       "</table>\n",
       "</div>"
      ],
      "text/plain": [
       "                                    tickers        date  \\\n",
       "0   [FMTY14, FNOVA17, FIBRAMQ12, FIBRAPL14]  2023-01-27   \n",
       "1   [FMTY14, FNOVA17, FIBRAMQ12, FIBRAPL14]  2023-02-24   \n",
       "2   [FMTY14, FNOVA17, FIBRAMQ12, FIBRAPL14]  2023-03-24   \n",
       "3   [FMTY14, FNOVA17, FIBRAMQ12, FIBRAPL14]  2023-04-21   \n",
       "4   [FMTY14, FNOVA17, FIBRAMQ12, FIBRAPL14]  2023-05-19   \n",
       "5   [FMTY14, FNOVA17, FIBRAMQ12, FIBRAPL14]  2023-06-16   \n",
       "6   [FMTY14, FNOVA17, FIBRAMQ12, FIBRAPL14]  2023-07-14   \n",
       "7   [FMTY14, FNOVA17, FIBRAMQ12, FIBRAPL14]  2023-08-11   \n",
       "8   [FMTY14, FNOVA17, FIBRAMQ12, FIBRAPL14]  2023-09-08   \n",
       "9   [FMTY14, FNOVA17, FIBRAMQ12, FIBRAPL14]  2023-10-06   \n",
       "10  [FMTY14, FNOVA17, FIBRAMQ12, FIBRAPL14]  2023-11-03   \n",
       "11  [FMTY14, FNOVA17, FIBRAMQ12, FIBRAPL14]  2023-12-01   \n",
       "12  [FMTY14, FNOVA17, FIBRAMQ12, FIBRAPL14]  2023-12-29   \n",
       "13  [FMTY14, FNOVA17, FIBRAMQ12, FIBRAPL14]  2024-01-26   \n",
       "14  [FMTY14, FNOVA17, FIBRAMQ12, FIBRAPL14]  2024-02-23   \n",
       "15  [FMTY14, FNOVA17, FIBRAMQ12, FIBRAPL14]  2024-03-22   \n",
       "16  [FMTY14, FNOVA17, FIBRAMQ12, FIBRAPL14]  2024-04-19   \n",
       "17  [FMTY14, FNOVA17, FIBRAMQ12, FIBRAPL14]  2024-05-17   \n",
       "18  [FMTY14, FNOVA17, FIBRAMQ12, FIBRAPL14]  2024-06-14   \n",
       "19  [FMTY14, FNOVA17, FIBRAMQ12, FIBRAPL14]  2024-07-12   \n",
       "\n",
       "                  portfolio_share portfolio_composition  paid_dividends  \\\n",
       "0            [0.0, 1.0, 0.0, 0.0]       [0, 2107, 0, 0]      528.356374   \n",
       "1      [0.0, 0.0, 0.7681, 0.2319]     [0, 0, 1266, 394]        0.000000   \n",
       "2            [1.0, 0.0, 0.0, 0.0]       [5460, 0, 0, 0]      802.035754   \n",
       "3            [1.0, 0.0, 0.0, 0.0]       [5186, 0, 0, 0]        0.000000   \n",
       "4      [0.0, 0.2665, 0.7335, 0.0]     [0, 477, 1468, 0]        0.000000   \n",
       "5    [0.401, 0.2834, 0.3157, 0.0]   [2141, 615, 635, 0]        0.000000   \n",
       "6   [0.1368, 0.5014, 0.0, 0.3618]    [447, 685, 0, 570]        0.000000   \n",
       "7      [0.9581, 0.0419, 0.0, 0.0]      [5001, 87, 0, 0]      449.855250   \n",
       "8            [0.0, 0.0, 1.0, 0.0]       [0, 0, 1849, 0]        0.000000   \n",
       "9        [0.0, 0.0, 0.271, 0.729]      [0, 0, 157, 891]        0.000000   \n",
       "10   [0.0246, 0.0774, 0.0, 0.898]      [16, 20, 0, 959]      480.965368   \n",
       "11     [0.0, 0.3043, 0.0, 0.6957]      [0, 245, 0, 873]        0.000000   \n",
       "12     [0.0, 0.0, 0.5975, 0.4025]      [0, 0, 853, 618]        0.000000   \n",
       "13     [0.0, 0.4572, 0.0, 0.5428]      [0, 525, 0, 761]        0.000000   \n",
       "14     [0.2672, 0.7328, 0.0, 0.0]    [1619, 1869, 0, 0]      578.267820   \n",
       "15  [0.1235, 0.0, 0.4193, 0.4573]    [398, 0, 476, 678]      106.327936   \n",
       "16           [0.0, 1.0, 0.0, 0.0]       [0, 2257, 0, 0]        0.000000   \n",
       "17           [0.0, 0.0, 1.0, 0.0]       [0, 0, 2116, 0]      566.814248   \n",
       "18  [0.0163, 0.0, 0.5116, 0.4722]     [52, 0, 538, 694]        0.000000   \n",
       "19           [0.0, 1.0, 0.0, 0.0]       [0, 2290, 0, 0]        0.000000   \n",
       "\n",
       "             pnl  \n",
       "0    5710.945652  \n",
       "1    8727.761655  \n",
       "2   11667.243835  \n",
       "3    8899.002312  \n",
       "4    4062.336744  \n",
       "5    8515.645728  \n",
       "6    6990.308805  \n",
       "7    6043.994110  \n",
       "8    5063.358239  \n",
       "9    7807.514056  \n",
       "10  12964.778798  \n",
       "11  19573.172040  \n",
       "12  24609.335841  \n",
       "13  18123.260417  \n",
       "14  21409.666984  \n",
       "15  17104.671504  \n",
       "16  14422.890582  \n",
       "17  16943.301785  \n",
       "18  10694.855090  \n",
       "19  14484.381821  "
      ]
     },
     "execution_count": 24,
     "metadata": {},
     "output_type": "execute_result"
    }
   ],
   "source": [
    "price_holder.backtest_summary_df"
   ]
  }
 ],
 "metadata": {
  "kernelspec": {
   "display_name": "fibra_analyzer_env",
   "language": "python",
   "name": "python3"
  },
  "language_info": {
   "codemirror_mode": {
    "name": "ipython",
    "version": 3
   },
   "file_extension": ".py",
   "mimetype": "text/x-python",
   "name": "python",
   "nbconvert_exporter": "python",
   "pygments_lexer": "ipython3",
   "version": "3.10.14"
  }
 },
 "nbformat": 4,
 "nbformat_minor": 2
}
